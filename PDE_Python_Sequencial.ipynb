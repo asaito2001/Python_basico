{
  "nbformat": 4,
  "nbformat_minor": 0,
  "metadata": {
    "colab": {
      "provenance": [],
      "authorship_tag": "ABX9TyNN+4Bg7bwJAGqJuPU1OSm5",
      "include_colab_link": true
    },
    "kernelspec": {
      "name": "python3",
      "display_name": "Python 3"
    },
    "language_info": {
      "name": "python"
    }
  },
  "cells": [
    {
      "cell_type": "markdown",
      "metadata": {
        "id": "view-in-github",
        "colab_type": "text"
      },
      "source": [
        "<a href=\"https://colab.research.google.com/github/asaito2001/Python_basico/blob/master/PDE_Python_Sequencial.ipynb\" target=\"_parent\"><img src=\"https://colab.research.google.com/assets/colab-badge.svg\" alt=\"Open In Colab\"/></a>"
      ]
    },
    {
      "cell_type": "code",
      "execution_count": null,
      "metadata": {
        "id": "A8htmQneXggS",
        "colab": {
          "base_uri": "https://localhost:8080/"
        },
        "outputId": "26975fbb-1039-4b37-a7a8-f2677174cb6b"
      },
      "outputs": [
        {
          "output_type": "stream",
          "name": "stdout",
          "text": [
            "Python 3.10.12\n"
          ]
        }
      ],
      "source": [
        "!python --version"
      ]
    },
    {
      "cell_type": "code",
      "source": [
        "# Faça um Programa que mostre a mensagem \"Alo mundo\" na tela.\n",
        "\n",
        "print(\"Alo mundo\")"
      ],
      "metadata": {
        "colab": {
          "base_uri": "https://localhost:8080/"
        },
        "id": "s8dG0gkRfbRv",
        "outputId": "e6ff25bd-5d9a-4139-c0ef-a73d79762a06"
      },
      "execution_count": null,
      "outputs": [
        {
          "output_type": "stream",
          "name": "stdout",
          "text": [
            "Alo mundo\n"
          ]
        }
      ]
    },
    {
      "cell_type": "code",
      "source": [
        "# Faça um Programa que peça um número e então mostre a mensagem O número informado foi [número].\n",
        "\n",
        "numero = input(\"Digite um numero: \")\n",
        "print(f\"O numero informado foi {numero}\")"
      ],
      "metadata": {
        "colab": {
          "base_uri": "https://localhost:8080/"
        },
        "id": "G3T3FyDAfvYv",
        "outputId": "da3cf460-faec-4f26-bd3e-0c64c89700ef"
      },
      "execution_count": null,
      "outputs": [
        {
          "output_type": "stream",
          "name": "stdout",
          "text": [
            "Digite um numero: 23\n",
            "O numero informado foi 23\n"
          ]
        }
      ]
    },
    {
      "cell_type": "code",
      "source": [
        "# Faça um Programa que peça dois números e imprima a soma.\n",
        "\n",
        "num1 = int(input(\"Entre num1: \"))\n",
        "num2 = int(input(\"Entre num2: \"))\n",
        "soma = num1 + num2\n",
        "print(f\"A soma é: {num1 + num2}\")"
      ],
      "metadata": {
        "colab": {
          "base_uri": "https://localhost:8080/"
        },
        "id": "hjj58NkihDmO",
        "outputId": "6b4604a7-2983-45a0-8b87-7539786772ae"
      },
      "execution_count": null,
      "outputs": [
        {
          "output_type": "stream",
          "name": "stdout",
          "text": [
            "Entre num1: 12\n",
            "Entre num2: 3\n",
            "A soma é: 15\n"
          ]
        }
      ]
    },
    {
      "cell_type": "code",
      "source": [
        "# Faça um Programa que peça as 4 notas bimestrais e mostre a média\n",
        "\n",
        "nota1 = float(input(\"Entre nota1: \"))\n",
        "nota2 = float(input(\"Entre nota2: \"))\n",
        "nota3 = float(input(\"Entre nota3: \"))\n",
        "nota4 = float(input(\"Entre nota4: \"))\n",
        "media = (nota1 + nota2 + nota3 + nota4) / 4\n",
        "print(f\"Media : {media}\")"
      ],
      "metadata": {
        "colab": {
          "base_uri": "https://localhost:8080/"
        },
        "id": "0WTboybkk3Gu",
        "outputId": "4d91ae56-ab57-4d36-8046-4da6a2131303"
      },
      "execution_count": null,
      "outputs": [
        {
          "output_type": "stream",
          "name": "stdout",
          "text": [
            "Entre nota1: 9.5\n",
            "Entre nota2: 5.5\n",
            "Entre nota3: 10\n",
            "Entre nota4: 7\n",
            "Media : 8.0\n"
          ]
        }
      ]
    },
    {
      "cell_type": "code",
      "source": [
        "# Faça um Programa que converta metros para centímetros.\n",
        "\n",
        "fator_metros_centimetros = 100\n",
        "metros = float(input(\"Entre com metros: \"))\n",
        "resultado = metros * fator_metros_centimetros\n",
        "print(f\"{metros} metros são {resultado} centimetros.\")"
      ],
      "metadata": {
        "colab": {
          "base_uri": "https://localhost:8080/"
        },
        "id": "Y-36k5Ifu9O3",
        "outputId": "1f922a00-1d51-4720-90b7-3fa3843aa9c1"
      },
      "execution_count": null,
      "outputs": [
        {
          "output_type": "stream",
          "name": "stdout",
          "text": [
            "Entre com metros: 1.77\n",
            "1.77 metros são 177.0 centimetros.\n"
          ]
        }
      ]
    },
    {
      "cell_type": "code",
      "source": [
        "# Faça um Programa que peça o raio de um círculo, calcule e mostre sua área.\n",
        "\n",
        "pi = 3.14159\n",
        "raio = float(input(\"Entre com o raio de um circulo: \"))\n",
        "area = pi * (raio**2)\n",
        "print(f\"Area calculada: {area}\")"
      ],
      "metadata": {
        "colab": {
          "base_uri": "https://localhost:8080/"
        },
        "id": "1C9U7eERxOu2",
        "outputId": "929afad6-4a5c-4121-a2ab-4531bd2409d4"
      },
      "execution_count": null,
      "outputs": [
        {
          "output_type": "stream",
          "name": "stdout",
          "text": [
            "Entre com o raio de um circulo: 5\n",
            "Area calculada: 78.53975\n"
          ]
        }
      ]
    },
    {
      "cell_type": "code",
      "source": [
        "# Faça um Programa que calcule a área de um quadrado, em seguida mostre o dobro desta área para o usuário.\n",
        "\n",
        "lado = float(input(\"Entre com lado: \"))\n",
        "area_quadrado = lado ** 2\n",
        "dobro_area_quadrado = area_quadrado * 2\n",
        "print(f\"Area do quadrado {area_quadrado} e o dobro é {dobro_area_quadrado}\")"
      ],
      "metadata": {
        "colab": {
          "base_uri": "https://localhost:8080/"
        },
        "id": "lQ2otcIM1rzO",
        "outputId": "fd521b8f-c719-4eac-d4b1-a15c3c703a8a"
      },
      "execution_count": null,
      "outputs": [
        {
          "output_type": "stream",
          "name": "stdout",
          "text": [
            "Entre com lado: 4\n",
            "Area do quadrado 16.0 e o dobro é 32.0\n"
          ]
        }
      ]
    },
    {
      "cell_type": "code",
      "source": [
        "# Faça um Programa que pergunte quanto você ganha por hora e o\n",
        "# número de horas trabalhadas no mês. Calcule e mostre o total\n",
        "# do seu salário no referido mês.\n",
        "\n",
        "salario_hora = float(input(\"Salario hora: \"))\n",
        "horas_trabalhadas = float(input(\"Horas trabalhadas: \"))\n",
        "salario_mensal = salario_hora * horas_trabalhadas\n",
        "print(f\"Salario mensal: {salario_mensal}\")\n"
      ],
      "metadata": {
        "colab": {
          "base_uri": "https://localhost:8080/"
        },
        "id": "PpVpHqLZ3KYi",
        "outputId": "144fbdf4-3745-40ab-e11c-7dd2f5b33ae8"
      },
      "execution_count": null,
      "outputs": [
        {
          "output_type": "stream",
          "name": "stdout",
          "text": [
            "Salario hora: 20\n",
            "Horas trabalhadas: 220\n",
            "Salario mensal: 4400.0\n"
          ]
        }
      ]
    },
    {
      "cell_type": "code",
      "source": [
        "# Faça um Programa que peça a temperatura em graus Fahrenheit, transforme\n",
        "# e mostre a temperatura em graus Celsius.\n",
        "# C = 5 * ((F-32) / 9).\n",
        "\n",
        "graus_fahrenheit = float(input(\"Entre graus Fahrenheit: \"))\n",
        "graus_celsius = 5 * ((graus_fahrenheit - 32) / 9)\n",
        "print(f\"Graus fahrenheit {graus_fahrenheit} igual a {graus_celsius} celsius.\")"
      ],
      "metadata": {
        "colab": {
          "base_uri": "https://localhost:8080/"
        },
        "id": "P10-Soyq4Hj6",
        "outputId": "8b69aed7-5aff-4e24-b538-fe17a4f06310"
      },
      "execution_count": null,
      "outputs": [
        {
          "output_type": "stream",
          "name": "stdout",
          "text": [
            "Entre graus Fahrenheit: 100\n",
            "Graus fahrenheit 100.0 igual a 37.77777777777778 celsius.\n"
          ]
        }
      ]
    },
    {
      "cell_type": "code",
      "source": [
        "# Faça um Programa que peça a temperatura em graus Celsius, transforme e mostre em graus Fahrenheit.\n",
        "\n",
        "graus_celsius = float(input(\"Entre graus Celsius: \"))\n",
        "graus_fahrenheit = (graus_celsius * (9 / 5)) + 32\n",
        "print(f\"Graus celsius {graus_celsius} igual a  {graus_fahrenheit} fahrenheit.\")"
      ],
      "metadata": {
        "colab": {
          "base_uri": "https://localhost:8080/"
        },
        "id": "7b0XHgFR-U7h",
        "outputId": "dd9fcaa2-55f2-4e02-d73f-01c615044977"
      },
      "execution_count": null,
      "outputs": [
        {
          "output_type": "stream",
          "name": "stdout",
          "text": [
            "Entre graus Celsius: 37.7777777778\n",
            "Graus celsius 37.7777777778 igual a  100.00000000004 fahrenheit.\n"
          ]
        }
      ]
    },
    {
      "cell_type": "code",
      "source": [
        "#Faça um Programa que peça 2 números inteiros e um número real. Calcule e mostre:\n",
        "#     a. O produto do dobro do primeiro com metade do segundo .\n",
        "#     b. a soma do triplo do primeiro com o terceiro.\n",
        "#     c. o terceiro elevado ao cubo.\n",
        "\n",
        "int_1 = int(input(\"Primeiro inteiro: \"))\n",
        "int_2 = int(input(\"Segundo inteiro: \"))\n",
        "real_1 = float(input(\"Numero real: \"))\n",
        "result_a = ((int_1 * 2) * (int_2 / 2))\n",
        "result_b = ((int_1 * 3) + real_1)\n",
        "result_c = real_1 ** 3\n",
        "print(f\"O produto do dobro do primeiro com metade do segundo {result_a}\")\n",
        "print(f\"A soma do triplo do primeiro com o terceiro {result_b}\")\n",
        "print(f\"O terceiro elevado ao cubo {result_c}\")"
      ],
      "metadata": {
        "colab": {
          "base_uri": "https://localhost:8080/"
        },
        "id": "y2Bn515cAUyq",
        "outputId": "1a7a4eef-a657-4404-c588-feb387e6b0f0"
      },
      "execution_count": null,
      "outputs": [
        {
          "output_type": "stream",
          "name": "stdout",
          "text": [
            "Primeiro inteiro: 1\n",
            "Segundo inteiro: 2\n",
            "Numero real: 3\n",
            "O produto do dobro do primeiro com metade do segundo 2.0\n",
            "A soma do triplo do primeiro com o terceiro 6.0\n",
            "O terceiro elevado ao cubo 27.0\n"
          ]
        }
      ]
    }
  ]
}